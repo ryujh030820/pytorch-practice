{
 "cells": [
  {
   "cell_type": "code",
   "execution_count": 1,
   "id": "76499648-050f-4d52-a989-78b9e9e6cc83",
   "metadata": {},
   "outputs": [],
   "source": [
    "import torch\n",
    "import torch.optim as optim\n",
    "import numpy as np"
   ]
  },
  {
   "cell_type": "code",
   "execution_count": 2,
   "id": "6e474c8f-71f0-46ab-b4a7-2df178227772",
   "metadata": {},
   "outputs": [
    {
     "data": {
      "text/plain": [
       "<torch._C.Generator at 0x106f27470>"
      ]
     },
     "execution_count": 2,
     "metadata": {},
     "output_type": "execute_result"
    }
   ],
   "source": [
    "# Random seed to make results deterministic and reproducible\n",
    "torch.manual_seed(0)"
   ]
  },
  {
   "cell_type": "code",
   "execution_count": 3,
   "id": "7a7dd308-4177-438c-9e6a-6440da32c691",
   "metadata": {},
   "outputs": [],
   "source": [
    "sample = \" if you want you\""
   ]
  },
  {
   "cell_type": "code",
   "execution_count": 5,
   "id": "4e3ed65c-caec-4af0-b7bf-05706a7a8240",
   "metadata": {},
   "outputs": [
    {
     "name": "stdout",
     "output_type": "stream",
     "text": [
      "{' ': 0, 'o': 1, 'u': 2, 'a': 3, 'y': 4, 'w': 5, 'n': 6, 't': 7, 'i': 8, 'f': 9}\n"
     ]
    }
   ],
   "source": [
    "# make dictionary\n",
    "char_set = list(set(sample))\n",
    "char_dic = {c: i for i, c in enumerate(char_set)}\n",
    "print(char_dic)"
   ]
  },
  {
   "cell_type": "code",
   "execution_count": 10,
   "id": "10289a27-8f7a-49e7-b6e8-98e0179de0bd",
   "metadata": {},
   "outputs": [],
   "source": [
    "# hyper parameters\n",
    "dic_size = len(char_dic)\n",
    "hidden_size = len(char_dic)\n",
    "learning_rate = 0.1"
   ]
  },
  {
   "cell_type": "code",
   "execution_count": 16,
   "id": "c884df9f-2371-403f-84b4-7407ad5b62ab",
   "metadata": {},
   "outputs": [],
   "source": [
    "# data setting\n",
    "sample_idx = [char_dic[c] for c in sample]\n",
    "x_data = [sample_idx[:-1]]\n",
    "x_one_hot = [np.eye(dic_size)[x] for x in x_data]\n",
    "y_data = [sample_idx[1:]]"
   ]
  },
  {
   "cell_type": "code",
   "execution_count": 12,
   "id": "10ee4461-a763-4414-8f5a-18df5aea1395",
   "metadata": {},
   "outputs": [
    {
     "name": "stderr",
     "output_type": "stream",
     "text": [
      "/var/folders/l9/13yp2vrd6tq7yycbp1vv4lh00000gn/T/ipykernel_63122/1455435457.py:2: UserWarning: Creating a tensor from a list of numpy.ndarrays is extremely slow. Please consider converting the list to a single numpy.ndarray with numpy.array() before converting to a tensor. (Triggered internally at /Users/runner/work/pytorch/pytorch/pytorch/torch/csrc/utils/tensor_new.cpp:277.)\n",
      "  X = torch.FloatTensor(x_one_hot)\n"
     ]
    }
   ],
   "source": [
    "# transform as torch tensor variable\n",
    "X = torch.FloatTensor(x_one_hot)\n",
    "Y = torch.LongTensor(y_data)"
   ]
  },
  {
   "cell_type": "code",
   "execution_count": 13,
   "id": "7e703bbe-7496-492e-9f9e-43d880c1d3c9",
   "metadata": {},
   "outputs": [],
   "source": [
    "# declare RNN\n",
    "rnn = torch.nn.RNN(dic_size, hidden_size, batch_first=True)"
   ]
  },
  {
   "cell_type": "code",
   "execution_count": 14,
   "id": "df5a0a42-b863-4d8d-9c82-ecb5df13adc6",
   "metadata": {},
   "outputs": [],
   "source": [
    "# loss & optimizer setting\n",
    "criterion = torch.nn.CrossEntropyLoss()\n",
    "optimizer = optim.Adam(rnn.parameters(), learning_rate)"
   ]
  },
  {
   "cell_type": "code",
   "execution_count": 17,
   "id": "8da5e13b-0121-4c30-9b01-e31e75feef21",
   "metadata": {},
   "outputs": [
    {
     "name": "stdout",
     "output_type": "stream",
     "text": [
      "0 loss:  2.3438687324523926 prediction:  [[5 8 0 5 7 5 7 5 7 7 8 0 5 8 5]] true Y:  [[8, 9, 0, 4, 1, 2, 0, 5, 3, 6, 7, 0, 4, 1, 2]] prediction str:  wi wtwtwtti wiw\n",
      "1 loss:  1.9998440742492676 prediction:  [[5 0 0 4 1 0 4 1 0 2 1 0 4 1 0]] true Y:  [[8, 9, 0, 4, 1, 2, 0, 5, 3, 6, 7, 0, 4, 1, 2]] prediction str:  w  yo yo uo yo \n",
      "2 loss:  1.8160332441329956 prediction:  [[5 0 0 4 1 2 4 5 0 2 0 0 4 1 2]] true Y:  [[8, 9, 0, 4, 1, 2, 0, 5, 3, 6, 7, 0, 4, 1, 2]] prediction str:  w  youyw u  you\n",
      "3 loss:  1.6675077676773071 prediction:  [[1 0 0 4 1 2 4 5 0 2 7 0 4 1 2]] true Y:  [[8, 9, 0, 4, 1, 2, 0, 5, 3, 6, 7, 0, 4, 1, 2]] prediction str:  o  youyw ut you\n",
      "4 loss:  1.5193397998809814 prediction:  [[1 0 0 4 1 2 0 5 1 2 7 0 4 1 2]] true Y:  [[8, 9, 0, 4, 1, 2, 0, 5, 3, 6, 7, 0, 4, 1, 2]] prediction str:  o  you wout you\n",
      "5 loss:  1.4061566591262817 prediction:  [[1 9 0 4 1 2 0 5 7 2 7 6 4 1 2]] true Y:  [[8, 9, 0, 4, 1, 2, 0, 5, 3, 6, 7, 0, 4, 1, 2]] prediction str:  of you wtutnyou\n",
      "6 loss:  1.3168443441390991 prediction:  [[1 9 0 4 1 2 0 5 3 6 7 6 4 1 2]] true Y:  [[8, 9, 0, 4, 1, 2, 0, 5, 3, 6, 7, 0, 4, 1, 2]] prediction str:  of you wantnyou\n",
      "7 loss:  1.2395275831222534 prediction:  [[1 9 0 4 1 2 0 5 3 6 7 6 4 1 2]] true Y:  [[8, 9, 0, 4, 1, 2, 0, 5, 3, 6, 7, 0, 4, 1, 2]] prediction str:  of you wantnyou\n",
      "8 loss:  1.174110770225525 prediction:  [[1 9 0 4 1 2 0 5 3 2 7 6 4 1 2]] true Y:  [[8, 9, 0, 4, 1, 2, 0, 5, 3, 6, 7, 0, 4, 1, 2]] prediction str:  of you wautnyou\n",
      "9 loss:  1.1218003034591675 prediction:  [[1 9 0 4 1 2 0 5 3 6 7 6 4 1 2]] true Y:  [[8, 9, 0, 4, 1, 2, 0, 5, 3, 6, 7, 0, 4, 1, 2]] prediction str:  of you wantnyou\n",
      "10 loss:  1.074182391166687 prediction:  [[8 9 0 4 1 2 0 5 3 6 7 6 4 1 2]] true Y:  [[8, 9, 0, 4, 1, 2, 0, 5, 3, 6, 7, 0, 4, 1, 2]] prediction str:  if you wantnyou\n",
      "11 loss:  1.0290547609329224 prediction:  [[8 9 0 4 1 2 0 5 3 6 7 6 4 1 2]] true Y:  [[8, 9, 0, 4, 1, 2, 0, 5, 3, 6, 7, 0, 4, 1, 2]] prediction str:  if you wantnyou\n",
      "12 loss:  0.9964742064476013 prediction:  [[8 9 0 4 1 2 0 5 3 6 7 6 4 1 2]] true Y:  [[8, 9, 0, 4, 1, 2, 0, 5, 3, 6, 7, 0, 4, 1, 2]] prediction str:  if you wantnyou\n",
      "13 loss:  0.9740520715713501 prediction:  [[8 9 0 4 1 2 0 5 3 6 7 6 4 1 2]] true Y:  [[8, 9, 0, 4, 1, 2, 0, 5, 3, 6, 7, 0, 4, 1, 2]] prediction str:  if you wantnyou\n",
      "14 loss:  0.9546329975128174 prediction:  [[8 9 0 4 1 2 0 5 3 6 7 6 4 1 2]] true Y:  [[8, 9, 0, 4, 1, 2, 0, 5, 3, 6, 7, 0, 4, 1, 2]] prediction str:  if you wantnyou\n",
      "15 loss:  0.9376834630966187 prediction:  [[8 9 0 4 1 2 0 5 3 6 7 6 4 1 2]] true Y:  [[8, 9, 0, 4, 1, 2, 0, 5, 3, 6, 7, 0, 4, 1, 2]] prediction str:  if you wantnyou\n",
      "16 loss:  0.9245843291282654 prediction:  [[8 9 0 4 1 2 0 5 3 6 7 6 4 1 2]] true Y:  [[8, 9, 0, 4, 1, 2, 0, 5, 3, 6, 7, 0, 4, 1, 2]] prediction str:  if you wantnyou\n",
      "17 loss:  0.9147630333900452 prediction:  [[8 9 0 4 1 2 0 5 3 6 7 6 4 1 2]] true Y:  [[8, 9, 0, 4, 1, 2, 0, 5, 3, 6, 7, 0, 4, 1, 2]] prediction str:  if you wantnyou\n",
      "18 loss:  0.9065344333648682 prediction:  [[8 9 0 4 1 2 0 5 3 6 7 6 4 1 2]] true Y:  [[8, 9, 0, 4, 1, 2, 0, 5, 3, 6, 7, 0, 4, 1, 2]] prediction str:  if you wantnyou\n",
      "19 loss:  0.8985020518302917 prediction:  [[8 9 0 4 1 2 0 5 3 6 7 6 4 1 2]] true Y:  [[8, 9, 0, 4, 1, 2, 0, 5, 3, 6, 7, 0, 4, 1, 2]] prediction str:  if you wantnyou\n",
      "20 loss:  0.891250729560852 prediction:  [[8 9 0 4 1 2 0 5 3 6 7 6 4 1 2]] true Y:  [[8, 9, 0, 4, 1, 2, 0, 5, 3, 6, 7, 0, 4, 1, 2]] prediction str:  if you wantnyou\n",
      "21 loss:  0.8853461742401123 prediction:  [[8 9 0 4 1 2 0 5 3 6 7 6 4 1 2]] true Y:  [[8, 9, 0, 4, 1, 2, 0, 5, 3, 6, 7, 0, 4, 1, 2]] prediction str:  if you wantnyou\n",
      "22 loss:  0.8805156350135803 prediction:  [[8 9 0 4 1 2 0 5 3 6 7 6 4 1 2]] true Y:  [[8, 9, 0, 4, 1, 2, 0, 5, 3, 6, 7, 0, 4, 1, 2]] prediction str:  if you wantnyou\n",
      "23 loss:  0.8765218257904053 prediction:  [[8 9 0 4 1 2 0 5 3 6 7 0 4 1 2]] true Y:  [[8, 9, 0, 4, 1, 2, 0, 5, 3, 6, 7, 0, 4, 1, 2]] prediction str:  if you want you\n",
      "24 loss:  0.8730364441871643 prediction:  [[8 9 0 4 1 2 0 5 3 6 7 0 4 1 2]] true Y:  [[8, 9, 0, 4, 1, 2, 0, 5, 3, 6, 7, 0, 4, 1, 2]] prediction str:  if you want you\n",
      "25 loss:  0.8699896931648254 prediction:  [[8 9 0 4 1 2 0 5 3 6 7 0 4 1 2]] true Y:  [[8, 9, 0, 4, 1, 2, 0, 5, 3, 6, 7, 0, 4, 1, 2]] prediction str:  if you want you\n",
      "26 loss:  0.867435097694397 prediction:  [[8 9 0 4 1 2 0 5 3 6 7 0 4 1 2]] true Y:  [[8, 9, 0, 4, 1, 2, 0, 5, 3, 6, 7, 0, 4, 1, 2]] prediction str:  if you want you\n",
      "27 loss:  0.865121066570282 prediction:  [[8 9 0 4 1 2 0 5 3 6 7 0 4 1 2]] true Y:  [[8, 9, 0, 4, 1, 2, 0, 5, 3, 6, 7, 0, 4, 1, 2]] prediction str:  if you want you\n",
      "28 loss:  0.862860918045044 prediction:  [[8 9 0 4 1 2 0 5 3 6 7 0 4 1 2]] true Y:  [[8, 9, 0, 4, 1, 2, 0, 5, 3, 6, 7, 0, 4, 1, 2]] prediction str:  if you want you\n",
      "29 loss:  0.8606208562850952 prediction:  [[8 9 0 4 1 2 0 5 3 6 7 0 4 1 2]] true Y:  [[8, 9, 0, 4, 1, 2, 0, 5, 3, 6, 7, 0, 4, 1, 2]] prediction str:  if you want you\n",
      "30 loss:  0.858460545539856 prediction:  [[8 9 0 4 1 2 0 5 3 6 7 0 4 1 2]] true Y:  [[8, 9, 0, 4, 1, 2, 0, 5, 3, 6, 7, 0, 4, 1, 2]] prediction str:  if you want you\n",
      "31 loss:  0.8564848303794861 prediction:  [[8 9 0 4 1 2 0 5 3 6 7 0 4 1 2]] true Y:  [[8, 9, 0, 4, 1, 2, 0, 5, 3, 6, 7, 0, 4, 1, 2]] prediction str:  if you want you\n",
      "32 loss:  0.8547223210334778 prediction:  [[8 9 0 4 1 2 0 5 3 6 7 0 4 1 2]] true Y:  [[8, 9, 0, 4, 1, 2, 0, 5, 3, 6, 7, 0, 4, 1, 2]] prediction str:  if you want you\n",
      "33 loss:  0.8531878590583801 prediction:  [[8 9 0 4 1 2 0 5 3 6 7 0 4 1 2]] true Y:  [[8, 9, 0, 4, 1, 2, 0, 5, 3, 6, 7, 0, 4, 1, 2]] prediction str:  if you want you\n",
      "34 loss:  0.8519311547279358 prediction:  [[8 9 0 4 1 2 0 5 3 6 7 0 4 1 2]] true Y:  [[8, 9, 0, 4, 1, 2, 0, 5, 3, 6, 7, 0, 4, 1, 2]] prediction str:  if you want you\n",
      "35 loss:  0.8508802056312561 prediction:  [[8 9 0 4 1 2 0 5 3 6 7 0 4 1 2]] true Y:  [[8, 9, 0, 4, 1, 2, 0, 5, 3, 6, 7, 0, 4, 1, 2]] prediction str:  if you want you\n",
      "36 loss:  0.8498886227607727 prediction:  [[8 9 0 4 1 2 0 5 3 6 7 0 4 1 2]] true Y:  [[8, 9, 0, 4, 1, 2, 0, 5, 3, 6, 7, 0, 4, 1, 2]] prediction str:  if you want you\n",
      "37 loss:  0.8489142656326294 prediction:  [[8 9 0 4 1 2 0 5 3 6 7 0 4 1 2]] true Y:  [[8, 9, 0, 4, 1, 2, 0, 5, 3, 6, 7, 0, 4, 1, 2]] prediction str:  if you want you\n",
      "38 loss:  0.8479885458946228 prediction:  [[8 9 0 4 1 2 0 5 3 6 7 0 4 1 2]] true Y:  [[8, 9, 0, 4, 1, 2, 0, 5, 3, 6, 7, 0, 4, 1, 2]] prediction str:  if you want you\n",
      "39 loss:  0.8470862507820129 prediction:  [[8 9 0 4 1 2 0 5 3 6 7 0 4 1 2]] true Y:  [[8, 9, 0, 4, 1, 2, 0, 5, 3, 6, 7, 0, 4, 1, 2]] prediction str:  if you want you\n",
      "40 loss:  0.8461942076683044 prediction:  [[8 9 0 4 1 2 0 5 3 6 7 0 4 1 2]] true Y:  [[8, 9, 0, 4, 1, 2, 0, 5, 3, 6, 7, 0, 4, 1, 2]] prediction str:  if you want you\n",
      "41 loss:  0.8453721404075623 prediction:  [[8 9 0 4 1 2 0 5 3 6 7 0 4 1 2]] true Y:  [[8, 9, 0, 4, 1, 2, 0, 5, 3, 6, 7, 0, 4, 1, 2]] prediction str:  if you want you\n",
      "42 loss:  0.8446134924888611 prediction:  [[8 9 0 4 1 2 0 5 3 6 7 0 4 1 2]] true Y:  [[8, 9, 0, 4, 1, 2, 0, 5, 3, 6, 7, 0, 4, 1, 2]] prediction str:  if you want you\n",
      "43 loss:  0.8438728451728821 prediction:  [[8 9 0 4 1 2 0 5 3 6 7 0 4 1 2]] true Y:  [[8, 9, 0, 4, 1, 2, 0, 5, 3, 6, 7, 0, 4, 1, 2]] prediction str:  if you want you\n",
      "44 loss:  0.8431684970855713 prediction:  [[8 9 0 4 1 2 0 5 3 6 7 0 4 1 2]] true Y:  [[8, 9, 0, 4, 1, 2, 0, 5, 3, 6, 7, 0, 4, 1, 2]] prediction str:  if you want you\n",
      "45 loss:  0.8425136804580688 prediction:  [[8 9 0 4 1 2 0 5 3 6 7 0 4 1 2]] true Y:  [[8, 9, 0, 4, 1, 2, 0, 5, 3, 6, 7, 0, 4, 1, 2]] prediction str:  if you want you\n",
      "46 loss:  0.8418770432472229 prediction:  [[8 9 0 4 1 2 0 5 3 6 7 0 4 1 2]] true Y:  [[8, 9, 0, 4, 1, 2, 0, 5, 3, 6, 7, 0, 4, 1, 2]] prediction str:  if you want you\n",
      "47 loss:  0.8412755727767944 prediction:  [[8 9 0 4 1 2 0 5 3 6 7 0 4 1 2]] true Y:  [[8, 9, 0, 4, 1, 2, 0, 5, 3, 6, 7, 0, 4, 1, 2]] prediction str:  if you want you\n",
      "48 loss:  0.8407266736030579 prediction:  [[8 9 0 4 1 2 0 5 3 6 7 0 4 1 2]] true Y:  [[8, 9, 0, 4, 1, 2, 0, 5, 3, 6, 7, 0, 4, 1, 2]] prediction str:  if you want you\n",
      "49 loss:  0.8402047753334045 prediction:  [[8 9 0 4 1 2 0 5 3 6 7 0 4 1 2]] true Y:  [[8, 9, 0, 4, 1, 2, 0, 5, 3, 6, 7, 0, 4, 1, 2]] prediction str:  if you want you\n"
     ]
    }
   ],
   "source": [
    "# start training\n",
    "for i in range(50):\n",
    "    optimizer.zero_grad()\n",
    "    outputs, _status = rnn(X)\n",
    "    loss = criterion(outputs.view(-1, dic_size), Y.view(-1))\n",
    "    loss.backward()\n",
    "    optimizer.step()\n",
    "\n",
    "    result = outputs.data.numpy().argmax(axis=2)\n",
    "    result_str = ''.join([char_set[c] for c in np.squeeze(result)])\n",
    "    print(i, \"loss: \", loss.item(), \"prediction: \", result, \"true Y: \", y_data, \"prediction str: \", result_str)"
   ]
  },
  {
   "cell_type": "code",
   "execution_count": null,
   "id": "645d4bb1-066d-4c8c-afdf-09cae69e4991",
   "metadata": {},
   "outputs": [],
   "source": []
  }
 ],
 "metadata": {
  "kernelspec": {
   "display_name": "Python 3 (ipykernel)",
   "language": "python",
   "name": "python3"
  },
  "language_info": {
   "codemirror_mode": {
    "name": "ipython",
    "version": 3
   },
   "file_extension": ".py",
   "mimetype": "text/x-python",
   "name": "python",
   "nbconvert_exporter": "python",
   "pygments_lexer": "ipython3",
   "version": "3.12.4"
  }
 },
 "nbformat": 4,
 "nbformat_minor": 5
}
