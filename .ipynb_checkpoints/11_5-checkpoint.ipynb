{
 "cells": [
  {
   "cell_type": "code",
   "execution_count": 1,
   "id": "a1cc462f-9050-481f-a446-b81b4d2749f5",
   "metadata": {},
   "outputs": [],
   "source": [
    "import random\n",
    "import torch\n",
    "import torch.nn as nn\n",
    "from torch import optim"
   ]
  },
  {
   "cell_type": "code",
   "execution_count": 2,
   "id": "6155fef9-d7b7-45c2-a384-2c2cf04f9891",
   "metadata": {},
   "outputs": [],
   "source": [
    "torch.manual_seed(0)\n",
    "device = torch.device(\"cuda\" if torch.cuda.is_available() else \"cpu\")"
   ]
  },
  {
   "cell_type": "code",
   "execution_count": 3,
   "id": "7729f5e4-9085-46e1-915d-3dc648e18c96",
   "metadata": {},
   "outputs": [],
   "source": [
    "raw = [\"I feel hungry.\t나는 배가 고프다.\",\n",
    "       \"Pytorch is very easy.\t파이토치는 매우 쉽다.\",\n",
    "       \"Pytorch is a framework for deep learning.\t파이토치는 딥러닝을 위한 프레임워크이다.\",\n",
    "       \"Pytorch is very clear to use.\t파이토치는 사용하기 매우 직관적이다.\"]"
   ]
  },
  {
   "cell_type": "code",
   "execution_count": 8,
   "id": "eaa93d12-7d2d-4a4f-ae40-1ef3d8c25211",
   "metadata": {},
   "outputs": [],
   "source": [
    "# 문장의 시작과 끝을 표시하기 위한 토큰 인덱스\n",
    "SOS_token = 0\n",
    "EOS_token = 1"
   ]
  },
  {
   "cell_type": "code",
   "execution_count": 9,
   "id": "72ed139d-1836-4163-a070-f818db6a6bb2",
   "metadata": {},
   "outputs": [],
   "source": [
    "# 문장들의 사전들을 정의하기 위한 클래스\n",
    "class Vocab:\n",
    "    def __init__(self):\n",
    "        self.vocab2index = {\"<SOS>\": SOS_token, \"<EOS>\": EOS_token}\n",
    "        self.index2vocab = {SOS_token: \"<SOS>\", EOS_token: \"<EOS>\"}\n",
    "        self.vocab_count = {}\n",
    "        self.n_vocab = len(self.vocab2index)\n",
    "\n",
    "    def add_vocab(self, sentence):\n",
    "        for word in sentence.split(\" \"):\n",
    "            if word not in self.vocab2index:\n",
    "                self.vocab2index[word] = self.n_vocab\n",
    "                self.vocab_count[word] = 1\n",
    "                self.index2vocab[self.n_vocab] = word\n",
    "                self.n_vocab += 1\n",
    "            else:\n",
    "                self.vocab_count[word] += 1"
   ]
  },
  {
   "cell_type": "code",
   "execution_count": 10,
   "id": "e75f51c9-1a0e-48ed-a1a5-8c89caa0ff0a",
   "metadata": {},
   "outputs": [],
   "source": [
    "# source 문장과 target 문장의 단어 수가 제한 개수를 넘지 않는지 확인\n",
    "def filter_pair(pair, source_max_length, target_max_length):\n",
    "    return len(pair[0].split(\" \")) < source_max_length and len(pair[1].split(\" \")) < target_max_length"
   ]
  },
  {
   "cell_type": "code",
   "execution_count": 11,
   "id": "fbe90686-1d92-49dd-9f45-24d560b62e7f",
   "metadata": {},
   "outputs": [],
   "source": [
    "# 말뭉치들을 전처리하는 코드\n",
    "def preprocess(corpus, source_max_length, target_max_length):\n",
    "    print(\"reading corpus...\")\n",
    "    pairs = []\n",
    "    for line in corpus:\n",
    "        pairs.append([s for s in line.strip().lower().split(\"\\t\")])\n",
    "    print(\"Read {} sentence pairs\".format(len(pairs)))\n",
    "\n",
    "    pairs = [pair for pair in pairs if filter_pair(pair, source_max_length, target_max_length)]\n",
    "    print(\"Trimmed to {} sentence pairs\".format(len(pairs)))\n",
    "\n",
    "    source_vocab = Vocab()\n",
    "    target_vocab = Vocab()\n",
    "\n",
    "    print(\"Counting words...\")\n",
    "    for pair in pairs:\n",
    "        source_vocab.add_vocab(pair[0])\n",
    "        target_vocab.add_vocab(pair[1])\n",
    "    print(\"source vocab size =\", source_vocab.n_vocab)\n",
    "    print(\"target vocab size =\", target_vocab.n_vocab)\n",
    "\n",
    "    return pairs, source_vocab, target_vocab"
   ]
  },
  {
   "cell_type": "code",
   "execution_count": 20,
   "id": "50734b27-8abf-4df3-a3f1-32b113238adf",
   "metadata": {},
   "outputs": [],
   "source": [
    "class Encoder(nn.Module):\n",
    "    def __init__(self, input_size, hidden_size):\n",
    "        super(Encoder, self).__init__()\n",
    "        self.hidden_size = hidden_size\n",
    "        self.embedding = nn.Embedding(input_size, hidden_size)\n",
    "        self.gru = nn.GRU(hidden_size, hidden_size)\n",
    "\n",
    "    def forward(self, x, hidden):\n",
    "        x = self.embedding(x).view(1, 1, -1)\n",
    "        x, hidden = self.gru(x, hidden)\n",
    "        return x, hidden"
   ]
  },
  {
   "cell_type": "code",
   "execution_count": 21,
   "id": "9e3f65d1-7152-4303-9233-567723e0c439",
   "metadata": {},
   "outputs": [],
   "source": [
    "class Decoder(nn.Module):\n",
    "    def __init__(self, hidden_size, output_size):\n",
    "        super(Decoder, self).__init__()\n",
    "        self.hidden_size = hidden_size\n",
    "        self.embedding = nn.Embedding(output_size, hidden_size)\n",
    "        self.gru = nn.GRU(hidden_size, hidden_size)\n",
    "        self.out = nn.Linear(hidden_size, output_size)\n",
    "        self.softmax = nn.LogSoftmax(dim=1)\n",
    "\n",
    "    def forward(self, x, hidden):\n",
    "        x = self.embedding(x).view(1, 1, -1)\n",
    "        x, hidden = self.gru(x, hidden)\n",
    "        x = self.softmax(self.out(x[0]))\n",
    "        return x, hidden"
   ]
  },
  {
   "cell_type": "code",
   "execution_count": 18,
   "id": "206f4f49-d7a7-412c-bcd0-61383be231b3",
   "metadata": {},
   "outputs": [],
   "source": [
    "# convert sentence to the index tensor\n",
    "def tensorize(vocab, sentence):\n",
    "    indexes = [vocab.vocab2index[word] for word in sentence.split(\" \")]\n",
    "    indexes.append(vocab.vocab2index[\"<EOS>\"])\n",
    "    return torch.Tensor(indexes).long().to(device).view(-1, 1)"
   ]
  },
  {
   "cell_type": "code",
   "execution_count": 19,
   "id": "ced28fa2-2df4-4757-af0c-33064c214544",
   "metadata": {},
   "outputs": [],
   "source": [
    "# training seq2seq\n",
    "def train(pairs, source_vocab, target_vocab, encoder, decoder, n_iter, print_every=1000, learning_rate=0.01):\n",
    "    loss_total = 0\n",
    "\n",
    "    encoder_optimizer = optim.SGD(encoder.parameters(), lr=learning_rate)\n",
    "    decoder_optimizer = optim.SGD(decoder.parameters(), lr=learning_rate)\n",
    "\n",
    "    training_batch = [random.choice(pairs) for _ in range(n_iter)]\n",
    "    training_source = [tensorize(source_vocab, pair[0]) for pair in training_batch]\n",
    "    training_target = [tensorize(target_vocab, pair[1]) for pair in training_batch]\n",
    "\n",
    "    criterion = nn.NLLLoss()\n",
    "\n",
    "    for i in range(1, n_iter + 1):\n",
    "        source_tensor = training_source[i - 1]\n",
    "        target_tensor = training_target[i - 1]\n",
    "\n",
    "        encoder_hidden = torch.zeros([1, 1, encoder.hidden_size]).to(device)\n",
    "\n",
    "        encoder_optimizer.zero_grad()\n",
    "        decoder_optimizer.zero_grad()\n",
    "\n",
    "        source_length = source_tensor.size(0)\n",
    "        target_length = target_tensor.size(0)\n",
    "\n",
    "        loss = 0\n",
    "\n",
    "        for enc_input in range(source_length):\n",
    "            _, encoder_hidden = encoder(source_tensor[enc_input], encoder_hidden)\n",
    "\n",
    "        decoder_input = torch.Tensor([[SOS_token]]).long().to(device)\n",
    "        decoder_hidden = encoder_hidden # connect encoder output to decoder input\n",
    "\n",
    "        for di in range(target_length):\n",
    "            decoder_output, decoder_hidden = decoder(decoder_input, decoder_hidden)\n",
    "            loss += criterion(decoder_output, target_tensor[di])\n",
    "            decoder_input = target_tensor[di]  # teacher forcing (GRU의 예측값이 아닌 우리가 이미 알고있는 정답을 input으로 넣어줌)\n",
    "\n",
    "        loss.backward()\n",
    "\n",
    "        encoder_optimizer.step()\n",
    "        decoder_optimizer.step()\n",
    "\n",
    "        loss_iter = loss.item() / target_length\n",
    "        loss_total += loss_iter\n",
    "\n",
    "        if i % print_every == 0:\n",
    "            loss_avg = loss_total / print_every\n",
    "            loss_total = 0\n",
    "            print(\"[{} - {}%] loss = {:05.4f}\".format(i, i / n_iter * 100, loss_avg))"
   ]
  },
  {
   "cell_type": "code",
   "execution_count": 22,
   "id": "53b8e8be-81e7-4f17-a77e-6b2d535d0feb",
   "metadata": {},
   "outputs": [],
   "source": [
    "# insert given sentence to check the training\n",
    "def evaluate(pairs, source_vocab, target_vocab, encoder, decoder, target_max_length):\n",
    "    for pair in pairs:\n",
    "        print(\">\", pair[0])\n",
    "        print(\"=\", pair[1])\n",
    "        source_tensor = tensorize(source_vocab, pair[0])\n",
    "        source_length = source_tensor.size()[0]\n",
    "        encoder_hidden = torch.zeros([1, 1, encoder.hidden_size]).to(device)\n",
    "\n",
    "        for ei in range(source_length):\n",
    "            _, encoder_hidden = encoder(source_tensor[ei], encoder_hidden)\n",
    "\n",
    "        decoder_input = torch.Tensor([[SOS_token]], device=device).long()\n",
    "        decoder_hidden = encoder_hidden\n",
    "        decoded_words = []\n",
    "\n",
    "        for di in range(target_max_length):\n",
    "            decoder_output, decoder_hidden = decoder(decoder_input, decoder_hidden)\n",
    "            _, top_index = decoder_output.data.topk(1)\n",
    "            if top_index.item() == EOS_token:\n",
    "                decoded_words.append(\"<EOS>\")\n",
    "                break\n",
    "            else:\n",
    "                decoded_words.append(target_vocab.index2vocab[top_index.item()])\n",
    "\n",
    "            decoder_input = top_index.squeeze().detach()\n",
    "\n",
    "        predict_words = decoded_words\n",
    "        predict_sentence = \" \".join(predict_words)\n",
    "        print(\"<\", predict_sentence)\n",
    "        print(\"\")"
   ]
  },
  {
   "cell_type": "code",
   "execution_count": 23,
   "id": "dc987b2a-5b44-466b-95ed-b43a63373985",
   "metadata": {},
   "outputs": [],
   "source": [
    "# declare max length for sentence\n",
    "SOURCE_MAX_LENGTH = 10\n",
    "TARGET_MAX_LENGTH = 12"
   ]
  },
  {
   "cell_type": "code",
   "execution_count": 24,
   "id": "df850f52-b63d-41e6-9181-062dddbede8a",
   "metadata": {},
   "outputs": [
    {
     "name": "stdout",
     "output_type": "stream",
     "text": [
      "reading corpus...\n",
      "Read 4 sentence pairs\n",
      "Trimmed to 4 sentence pairs\n",
      "Counting words...\n",
      "source vocab size = 17\n",
      "target vocab size = 13\n",
      "['pytorch is very easy.', '파이토치는 매우 쉽다.']\n"
     ]
    }
   ],
   "source": [
    "# preprocess the corpus\n",
    "load_pairs, load_source_vocab, load_target_vocab = preprocess(raw, SOURCE_MAX_LENGTH, TARGET_MAX_LENGTH)\n",
    "print(random.choice(load_pairs))"
   ]
  },
  {
   "cell_type": "code",
   "execution_count": 25,
   "id": "a800238b-8dfc-4c37-a1dc-eafe2cedb13b",
   "metadata": {},
   "outputs": [],
   "source": [
    "# declare the encoder and the decoder\n",
    "enc_hidden_size = 16\n",
    "dec_hidden_size = enc_hidden_size\n",
    "enc = Encoder(load_source_vocab.n_vocab, enc_hidden_size).to(device)\n",
    "dec = Decoder(dec_hidden_size, load_target_vocab.n_vocab).to(device)"
   ]
  },
  {
   "cell_type": "code",
   "execution_count": 26,
   "id": "ef359aa2-240b-4dd4-aefc-4b9e336c1996",
   "metadata": {},
   "outputs": [
    {
     "name": "stdout",
     "output_type": "stream",
     "text": [
      "[1000 - 20.0%] loss = 0.7378\n",
      "[2000 - 40.0%] loss = 0.1094\n",
      "[3000 - 60.0%] loss = 0.0343\n",
      "[4000 - 80.0%] loss = 0.0181\n",
      "[5000 - 100.0%] loss = 0.0123\n"
     ]
    }
   ],
   "source": [
    "# train seq2seq model\n",
    "train(load_pairs, load_source_vocab, load_target_vocab, enc, dec, 5000, print_every=1000)"
   ]
  },
  {
   "cell_type": "code",
   "execution_count": 27,
   "id": "ef14b908-852f-465a-a04f-c2b506c72baa",
   "metadata": {},
   "outputs": [
    {
     "name": "stdout",
     "output_type": "stream",
     "text": [
      "> i feel hungry.\n",
      "= 나는 배가 고프다.\n",
      "< 나는 배가 고프다. <EOS>\n",
      "\n",
      "> pytorch is very easy.\n",
      "= 파이토치는 매우 쉽다.\n",
      "< 파이토치는 매우 쉽다. <EOS>\n",
      "\n",
      "> pytorch is a framework for deep learning.\n",
      "= 파이토치는 딥러닝을 위한 프레임워크이다.\n",
      "< 파이토치는 딥러닝을 위한 프레임워크이다. <EOS>\n",
      "\n",
      "> pytorch is very clear to use.\n",
      "= 파이토치는 사용하기 매우 직관적이다.\n",
      "< 파이토치는 사용하기 매우 직관적이다. <EOS>\n",
      "\n"
     ]
    }
   ],
   "source": [
    "# check the model with given data\n",
    "evaluate(load_pairs, load_source_vocab, load_target_vocab, enc, dec, TARGET_MAX_LENGTH)"
   ]
  },
  {
   "cell_type": "code",
   "execution_count": null,
   "id": "13cebcf5-5762-422c-af37-819cfa3bc6de",
   "metadata": {},
   "outputs": [],
   "source": []
  }
 ],
 "metadata": {
  "kernelspec": {
   "display_name": "Python 3 (ipykernel)",
   "language": "python",
   "name": "python3"
  },
  "language_info": {
   "codemirror_mode": {
    "name": "ipython",
    "version": 3
   },
   "file_extension": ".py",
   "mimetype": "text/x-python",
   "name": "python",
   "nbconvert_exporter": "python",
   "pygments_lexer": "ipython3",
   "version": "3.12.4"
  }
 },
 "nbformat": 4,
 "nbformat_minor": 5
}
