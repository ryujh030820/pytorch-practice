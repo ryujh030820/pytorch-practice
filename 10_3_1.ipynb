{
 "cells": [
  {
   "cell_type": "markdown",
   "id": "5714f75b-7f1d-487e-abae-e852882f8f2f",
   "metadata": {},
   "source": [
    "# 10-3-1 Visdom Example"
   ]
  },
  {
   "cell_type": "code",
   "execution_count": 3,
   "id": "a2c9c9a2-e785-4099-8237-fed58bd9e8e8",
   "metadata": {},
   "outputs": [],
   "source": [
    "import torch\n",
    "import torch.nn as nn\n",
    "\n",
    "import torchvision\n",
    "import torchvision.datasets as dsets"
   ]
  },
  {
   "cell_type": "markdown",
   "id": "9c56faee-20bf-4ab7-81ed-6fe17ee0af69",
   "metadata": {},
   "source": [
    "## Import visdom"
   ]
  },
  {
   "cell_type": "code",
   "execution_count": 4,
   "id": "70af5a2f-f72a-42f0-8ae0-51bf7f96ad25",
   "metadata": {},
   "outputs": [
    {
     "name": "stderr",
     "output_type": "stream",
     "text": [
      "Setting up a new session...\n"
     ]
    }
   ],
   "source": [
    "import visdom\n",
    "vis = visdom.Visdom()"
   ]
  },
  {
   "cell_type": "markdown",
   "id": "e9470e4a-dfe1-4f84-8076-5df8b3a69e0c",
   "metadata": {},
   "source": [
    "## Text"
   ]
  },
  {
   "cell_type": "code",
   "execution_count": 5,
   "id": "fa114c13-d269-41a4-8600-bccc2a27194f",
   "metadata": {},
   "outputs": [
    {
     "data": {
      "text/plain": [
       "'window_3d2c81db010254'"
      ]
     },
     "execution_count": 5,
     "metadata": {},
     "output_type": "execute_result"
    }
   ],
   "source": [
    "vis.text(\"Hello, world!\", env=\"main\")"
   ]
  },
  {
   "cell_type": "markdown",
   "id": "65129c42-2e1e-41af-a983-d6616c777dfd",
   "metadata": {},
   "source": [
    "## Image"
   ]
  },
  {
   "cell_type": "code",
   "execution_count": 7,
   "id": "1dc2c322-a35d-4155-82a6-cbf3bd25d1c7",
   "metadata": {},
   "outputs": [
    {
     "data": {
      "text/plain": [
       "'window_3d2c81fa0d4ec6'"
      ]
     },
     "execution_count": 7,
     "metadata": {},
     "output_type": "execute_result"
    }
   ],
   "source": [
    "a=torch.randn(3,200,200)\n",
    "vis.image(a)"
   ]
  },
  {
   "cell_type": "markdown",
   "id": "93ac3a5c-11b1-456c-b01c-4abaed53e345",
   "metadata": {},
   "source": [
    "## Images"
   ]
  },
  {
   "cell_type": "code",
   "execution_count": 8,
   "id": "6316ea47-ef3c-4173-9e29-268559a90aa6",
   "metadata": {},
   "outputs": [
    {
     "data": {
      "text/plain": [
       "'window_3d2c82139d1742'"
      ]
     },
     "execution_count": 8,
     "metadata": {},
     "output_type": "execute_result"
    }
   ],
   "source": [
    "vis.images(torch.Tensor(3,3,28,28))"
   ]
  },
  {
   "cell_type": "markdown",
   "id": "8c05703e-e933-47d5-a64f-3b11b2007f22",
   "metadata": {},
   "source": [
    "## example (using MNIST and CIFAR10)"
   ]
  },
  {
   "cell_type": "code",
   "execution_count": 9,
   "id": "ce6c7ac4-60c2-4bc7-837a-2fe5f50e3289",
   "metadata": {},
   "outputs": [
    {
     "name": "stdout",
     "output_type": "stream",
     "text": [
      "Downloading https://www.cs.toronto.edu/~kriz/cifar-10-python.tar.gz to ./cifar10/cifar-10-python.tar.gz\n"
     ]
    },
    {
     "name": "stderr",
     "output_type": "stream",
     "text": [
      "100%|███████████████████████████████████████████████████████████████| 170498071/170498071 [00:16<00:00, 10238544.60it/s]\n"
     ]
    },
    {
     "name": "stdout",
     "output_type": "stream",
     "text": [
      "Extracting ./cifar10/cifar-10-python.tar.gz to ./cifar10\n"
     ]
    }
   ],
   "source": [
    "MNIST = dsets.MNIST(root=\"./MNIST_data\", train=True, transform=torchvision.transforms.ToTensor(), download=True)\n",
    "cifar10 = dsets.CIFAR10(root=\"./cifar10\", train=True, transform=torchvision.transforms.ToTensor(), download=True)"
   ]
  },
  {
   "cell_type": "markdown",
   "id": "2366876c-9da9-42ba-afc8-71b6711f86b1",
   "metadata": {},
   "source": [
    "### CIFAR10"
   ]
  },
  {
   "cell_type": "code",
   "execution_count": 10,
   "id": "a9c56851-20ec-4890-8ec6-7d55bacdab7e",
   "metadata": {},
   "outputs": [
    {
     "name": "stdout",
     "output_type": "stream",
     "text": [
      "torch.Size([3, 32, 32])\n"
     ]
    },
    {
     "data": {
      "text/plain": [
       "'window_3d2c828c3d37cc'"
      ]
     },
     "execution_count": 10,
     "metadata": {},
     "output_type": "execute_result"
    }
   ],
   "source": [
    "data = cifar10.__getitem__(0)\n",
    "print(data[0].shape)\n",
    "vis.images(data[0],env=\"main\")"
   ]
  },
  {
   "cell_type": "markdown",
   "id": "353da5b5-b2c3-430f-9b57-570012e5d49c",
   "metadata": {},
   "source": [
    "### Check dataset"
   ]
  },
  {
   "cell_type": "code",
   "execution_count": 11,
   "id": "65ae9383-633a-49bb-88e7-61c21524775e",
   "metadata": {},
   "outputs": [],
   "source": [
    "data_loader = torch.utils.data.DataLoader(dataset = MNIST,\n",
    "                                          batch_size=32,\n",
    "                                          shuffle=False)"
   ]
  },
  {
   "cell_type": "code",
   "execution_count": 12,
   "id": "4684da9d-8459-4278-8ba7-447290c6996d",
   "metadata": {},
   "outputs": [
    {
     "name": "stdout",
     "output_type": "stream",
     "text": [
      "torch.Size([32, 1, 28, 28])\n"
     ]
    }
   ],
   "source": [
    "for num, value in enumerate(data_loader):\n",
    "    value = value[0]\n",
    "    print(value.shape)\n",
    "    vis.images(value)\n",
    "    break"
   ]
  },
  {
   "cell_type": "code",
   "execution_count": 13,
   "id": "46fa75ac-0dba-47e0-8122-155eaddd92ab",
   "metadata": {},
   "outputs": [
    {
     "data": {
      "text/plain": [
       "''"
      ]
     },
     "execution_count": 13,
     "metadata": {},
     "output_type": "execute_result"
    }
   ],
   "source": [
    "vis.close(env=\"main\")"
   ]
  },
  {
   "cell_type": "markdown",
   "id": "89de61e3-cd30-4c76-9680-21a2d58582fe",
   "metadata": {},
   "source": [
    "## Line Plot"
   ]
  },
  {
   "cell_type": "code",
   "execution_count": 14,
   "id": "ebf076c8-737e-46f3-b82f-3d8dc13b73df",
   "metadata": {},
   "outputs": [],
   "source": [
    "Y_data = torch.randn(5)\n",
    "plt = vis.line(Y=Y_data)"
   ]
  },
  {
   "cell_type": "code",
   "execution_count": 15,
   "id": "916914d2-70f0-4c2b-9b65-7e70641ffc4b",
   "metadata": {},
   "outputs": [],
   "source": [
    "X_data = torch.Tensor([1,2,3,4,5])\n",
    "plt = vis.line(Y=Y_data, X=X_data)"
   ]
  },
  {
   "cell_type": "markdown",
   "id": "4961aafc-3941-4a0a-9981-ef870d892389",
   "metadata": {},
   "source": [
    "### Line update"
   ]
  },
  {
   "cell_type": "code",
   "execution_count": 16,
   "id": "2afb451c-929b-4627-bbe3-16852b9b3149",
   "metadata": {},
   "outputs": [
    {
     "data": {
      "text/plain": [
       "'window_3d2c831efa950a'"
      ]
     },
     "execution_count": 16,
     "metadata": {},
     "output_type": "execute_result"
    }
   ],
   "source": [
    "Y_append = torch.randn(1)\n",
    "X_append = torch.Tensor([6])\n",
    "\n",
    "vis.line(Y=Y_append, X=X_append, win=plt, update='append')"
   ]
  },
  {
   "cell_type": "markdown",
   "id": "7652d896-016f-4926-90d0-d0293d39ff91",
   "metadata": {},
   "source": [
    "### multiple Line on single windows"
   ]
  },
  {
   "cell_type": "code",
   "execution_count": 18,
   "id": "e8a5e52c-018f-49c0-b24e-2c537ddee8bc",
   "metadata": {},
   "outputs": [
    {
     "name": "stdout",
     "output_type": "stream",
     "text": [
      "torch.Size([10])\n",
      "torch.Size([10, 1])\n",
      "torch.Size([10, 2])\n"
     ]
    }
   ],
   "source": [
    "num = torch.Tensor(list(range(0,10)))\n",
    "print(num.shape)\n",
    "num = num.view(-1,1)\n",
    "print(num.shape)\n",
    "num = torch.cat((num,num),dim=1)\n",
    "print(num.shape)\n",
    "\n",
    "plt = vis.line(Y=torch.randn(10,2), X = num)"
   ]
  },
  {
   "cell_type": "markdown",
   "id": "e8fff0dc-9ea7-4d94-8cef-7bd7a08540f0",
   "metadata": {},
   "source": [
    "### Line info"
   ]
  },
  {
   "cell_type": "code",
   "execution_count": 21,
   "id": "b08da84e-5c7a-4752-b707-79054af48377",
   "metadata": {},
   "outputs": [],
   "source": [
    "plt = vis.line(Y=Y_data, X=X_data, opts = dict(title='Test', showlegend=True))"
   ]
  },
  {
   "cell_type": "code",
   "execution_count": 22,
   "id": "6d5ea71a-160c-46db-a8cd-1a35c87baa66",
   "metadata": {},
   "outputs": [],
   "source": [
    "plt = vis.line(Y=Y_data, X=X_data, opts = dict(title='Test', legend = ['1번'], showlegend=True))"
   ]
  },
  {
   "cell_type": "code",
   "execution_count": 24,
   "id": "2939d3a3-2224-4ac8-914d-5073438eca02",
   "metadata": {},
   "outputs": [],
   "source": [
    "plt = vis.line(Y=torch.randn(10,2), X = num, opts = dict(title='Test', legend = ['1번', '2번'], showlegend=True))"
   ]
  },
  {
   "cell_type": "markdown",
   "id": "ddb92971-8f09-48ae-ae64-eadeb5800f51",
   "metadata": {},
   "source": [
    "## make function for update line"
   ]
  },
  {
   "cell_type": "code",
   "execution_count": 25,
   "id": "9fa43cc9-80a1-450b-8c12-bda17f1ad67e",
   "metadata": {},
   "outputs": [],
   "source": [
    "def loss_tracker(loss_plot, loss_value, num):\n",
    "    '''num, loss_value, are Tensor'''\n",
    "    vis.line(X=num,\n",
    "             Y=loss_value,\n",
    "             win = loss_plot,\n",
    "             update='append'\n",
    "            )"
   ]
  },
  {
   "cell_type": "code",
   "execution_count": 26,
   "id": "99f2c482-92f3-4d63-83b7-983796f38f0d",
   "metadata": {},
   "outputs": [],
   "source": [
    "plt = vis.line(Y=torch.Tensor(1).zero_())\n",
    "\n",
    "for i in range(500):\n",
    "    loss = torch.randn(1) + i\n",
    "    loss_tracker(plt, loss, torch.Tensor([i]))"
   ]
  },
  {
   "cell_type": "markdown",
   "id": "2610ef57-0bf5-4055-bec4-e29e129eca3d",
   "metadata": {},
   "source": [
    "## close the window"
   ]
  },
  {
   "cell_type": "code",
   "execution_count": 27,
   "id": "a6a7f56a-7003-4ad2-bcf7-6f84c14ce519",
   "metadata": {},
   "outputs": [
    {
     "data": {
      "text/plain": [
       "''"
      ]
     },
     "execution_count": 27,
     "metadata": {},
     "output_type": "execute_result"
    }
   ],
   "source": [
    "vis.close(env=\"main\")"
   ]
  },
  {
   "cell_type": "code",
   "execution_count": null,
   "id": "e18ae29a-1900-4c51-960b-25930f730768",
   "metadata": {},
   "outputs": [],
   "source": []
  }
 ],
 "metadata": {
  "kernelspec": {
   "display_name": "Python 3 (ipykernel)",
   "language": "python",
   "name": "python3"
  },
  "language_info": {
   "codemirror_mode": {
    "name": "ipython",
    "version": 3
   },
   "file_extension": ".py",
   "mimetype": "text/x-python",
   "name": "python",
   "nbconvert_exporter": "python",
   "pygments_lexer": "ipython3",
   "version": "3.12.4"
  }
 },
 "nbformat": 4,
 "nbformat_minor": 5
}
